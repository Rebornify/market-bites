{
 "cells": [
  {
   "cell_type": "code",
   "execution_count": null,
   "metadata": {
    "colab": {
     "base_uri": "https://localhost:8080/"
    },
    "executionInfo": {
     "elapsed": 28284,
     "status": "ok",
     "timestamp": 1742955234941,
     "user": {
      "displayName": "Caleb Ong",
      "userId": "09148710192798478088"
     },
     "user_tz": -480
    },
    "id": "qLWdfyllDzvs",
    "outputId": "8d06487d-46e6-4fbb-9109-f8c90cb23c84"
   },
   "outputs": [],
   "source": [
    "from google.colab import drive\n",
    "drive.mount('/content/drive')\n",
    "\n",
    "import os\n",
    "import glob\n",
    "import json\n",
    "import time\n",
    "import pandas as pd\n",
    "from openai import OpenAI\n"
   ]
  },
  {
   "cell_type": "code",
   "execution_count": 2,
   "metadata": {
    "executionInfo": {
     "elapsed": 263,
     "status": "ok",
     "timestamp": 1742955235206,
     "user": {
      "displayName": "Caleb Ong",
      "userId": "09148710192798478088"
     },
     "user_tz": -480
    },
    "id": "vkEwtPtLD4S2"
   },
   "outputs": [],
   "source": [
    "# Provide your OpenAI API key directly\n",
    "api_key = \"\"\n",
    "client = OpenAI(api_key=api_key)\n"
   ]
  },
  {
   "cell_type": "code",
   "execution_count": 3,
   "metadata": {
    "executionInfo": {
     "elapsed": 2253,
     "status": "ok",
     "timestamp": 1742955237461,
     "user": {
      "displayName": "Caleb Ong",
      "userId": "09148710192798478088"
     },
     "user_tz": -480
    },
    "id": "1wCCZR9qEGGi"
   },
   "outputs": [],
   "source": [
    "# Define paths\n",
    "data_path = '/content/drive/MyDrive/IS450 Project/Historical Reddit Data/FinBERT_Data/'\n",
    "output_csv_path = \"/content/drive/MyDrive/IS450 Project/Historical Reddit Data/Processed Posts/golden_dataset_sentiment.csv\"\n",
    "\n",
    "# Load or initialize CSV\n",
    "if os.path.exists(output_csv_path):\n",
    "    df_existing = pd.read_csv(output_csv_path)\n",
    "    processed_ids = set(df_existing[\"id\"].tolist())\n",
    "else:\n",
    "    pd.DataFrame(columns=[\"id\", \"subreddit\", \"sentiment\"]).to_csv(output_csv_path, index=False)\n",
    "    processed_ids = set()\n"
   ]
  },
  {
   "cell_type": "code",
   "execution_count": null,
   "metadata": {
    "colab": {
     "base_uri": "https://localhost:8080/"
    },
    "executionInfo": {
     "elapsed": 405,
     "status": "ok",
     "timestamp": 1742955237867,
     "user": {
      "displayName": "Caleb Ong",
      "userId": "09148710192798478088"
     },
     "user_tz": -480
    },
    "id": "GIdwyYWVEyOi",
    "outputId": "5a8358eb-6662-46c5-b607-b05be089a4b6"
   },
   "outputs": [],
   "source": [
    "# Load input JSON files\n",
    "file_paths = glob.glob(os.path.join(data_path, \"finbert_r_*.json\"))\n",
    "print(f\"Found {len(file_paths)} files.\")\n"
   ]
  },
  {
   "cell_type": "code",
   "execution_count": null,
   "metadata": {
    "colab": {
     "base_uri": "https://localhost:8080/"
    },
    "executionInfo": {
     "elapsed": 7225357,
     "status": "ok",
     "timestamp": 1742962463231,
     "user": {
      "displayName": "Caleb Ong",
      "userId": "09148710192798478088"
     },
     "user_tz": -480
    },
    "id": "M9sA2LI0EzF2",
    "outputId": "57f2062f-1b3b-4504-91dc-5d22cb8308ad"
   },
   "outputs": [],
   "source": [
    "total_processed = 0\n",
    "\n",
    "for file in file_paths:\n",
    "    subreddit = os.path.basename(file).split('_')[-1].split('.')[0]\n",
    "    with open(file, 'r') as f:\n",
    "        data = json.load(f)\n",
    "\n",
    "    for index, row in enumerate(data):\n",
    "        post_id = row.get(\"id\", f\"post_{index}\")\n",
    "        if post_id in processed_ids:\n",
    "            continue\n",
    "\n",
    "        text = row.get(\"processed_text_finbert\", \"\")\n",
    "        prompt = (\n",
    "            \"Analyze the sentiment of the following financial post. \"\n",
    "            \"Respond with a single number from 1 to 5, where: \"\n",
    "            \"1 means very negative, 2 means negative, 3 means neutral, \"\n",
    "            \"4 means positive, and 5 means very positive. \"\n",
    "            \"Only output the number. Do not include any extra text, punctuation, or explanation.\\n\\n\"\n",
    "            f\"{text}\\n\\n\"\n",
    "        )\n",
    "\n",
    "        try:\n",
    "            response = client.chat.completions.create(\n",
    "                model=\"gpt-4o-mini\",\n",
    "                messages=[\n",
    "                    {\"role\": \"system\", \"content\": \"You are a helpful assistant. Only respond with a single word as specified.\"},\n",
    "                    {\"role\": \"user\", \"content\": prompt}\n",
    "                ]\n",
    "            )\n",
    "            sentiment = response.choices[0].message.content.strip().lower()\n",
    "            pd.DataFrame([{\n",
    "                \"id\": post_id,\n",
    "                \"subreddit\": subreddit,\n",
    "                \"sentiment\": sentiment\n",
    "            }]).to_csv(output_csv_path, mode='a', header=False, index=False)\n",
    "\n",
    "            processed_ids.add(post_id)\n",
    "            total_processed += 1\n",
    "            print(f\"Processed {post_id}: {sentiment}\")\n",
    "            time.sleep(1)\n",
    "\n",
    "        except Exception as e:\n",
    "            print(f\"Error processing {post_id}: {e}\")\n",
    "            continue\n",
    "\n",
    "print(f\"\\nAll done! Total posts processed and saved: {total_processed}\")\n"
   ]
  }
 ],
 "metadata": {
  "colab": {
   "authorship_tag": "ABX9TyPJW+zUPIulkoOWtC9ZVodR",
   "provenance": []
  },
  "kernelspec": {
   "display_name": "Python 3",
   "name": "python3"
  },
  "language_info": {
   "name": "python"
  }
 },
 "nbformat": 4,
 "nbformat_minor": 0
}
